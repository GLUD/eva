{
 "cells": [
  {
   "cell_type": "markdown",
   "metadata": {},
   "source": [
    "# TUTORIAL PARA INSTALAR DRUPAL 8 EN LOCALHOST (PASO A PASO)"
   ]
  },
  {
   "cell_type": "markdown",
   "metadata": {},
   "source": [
    "![PHP](http://i66.tinypic.com/33atlqo.png \"PHP\")\n",
    "<center>Autor: Diego Javier Mena Amado  </center>\n",
    "<center>Correo: ingelectronicadj@gmail.com  </center>\n",
    "<center>Grupo de trabajo GNU Linux de la UDistrital  </center>\n",
    "<center>http://glud.org/ </center>"
   ]
  },
  {
   "cell_type": "markdown",
   "metadata": {},
   "source": [
    "Espero servir de apoyo a todo aquel que se proponga la meta de crecer junto con el software libre...  \n",
    "“¿El éxito es la meta? Pienso que no. La meta es conseguir, defender y mantener nuestra libertad”  \n",
    "― Richard Stallman  \n",
    "\n",
    "### PRIMER CAFÉ\n",
    "Descargamos el CMS directamente desde https://www.drupal.org/project/drupal y descargamos Drupal Core 8.0.5\n",
    "Ubicamos el directorio, lo ingresamos a nuestro servidor y lo descomprimimos:"
   ]
  },
  {
   "cell_type": "markdown",
   "metadata": {},
   "source": [
    "*  cp drupal-8.0.5.tar.gz /var/www/\n",
    "*  gzip -d drupal-8.0.5.tar.gz \n",
    "*  tar -xvf drupal-8.0.5.tar"
   ]
  },
  {
   "cell_type": "markdown",
   "metadata": {},
   "source": [
    "Podrias tener en cuenta que: * Ficheros tar.gz\n",
    "* Comprimir: tar -czfv archivo.tar.gz ficheros\n",
    "* Descomprimir: tar -xzvf archivo.tar.gz\n",
    "* Ver contenido: tar -tzf archivo.tar.gz"
   ]
  },
  {
   "cell_type": "markdown",
   "metadata": {},
   "source": [
    "Ahora debemos crear el directorio FILES exactamente como en la version 7 y la copia del archivo settings"
   ]
  },
  {
   "cell_type": "markdown",
   "metadata": {},
   "source": [
    "* root@asus-N53SV:/var/www/drupal-8.0.5/sites# mkdir sites/default/files\n",
    "* root@asus-N53SV:/var/www/drupal-8.0.5# cp sites/default/default.settings.php sites/default/settings.php"
   ]
  },
  {
   "cell_type": "markdown",
   "metadata": {},
   "source": [
    "Añadimos permisos de escritura"
   ]
  },
  {
   "cell_type": "markdown",
   "metadata": {},
   "source": [
    "* root@asus-N53SV:/var/www/drupal-8.0.5# chmod a+w -R sites/default/files/\n",
    "* root@asus-N53SV:/var/www/drupal-8.0.5# chmod a+w  sites/default/settings.php "
   ]
  },
  {
   "cell_type": "markdown",
   "metadata": {
    "collapsed": true
   },
   "source": [
    "![Apache](http://i65.tinypic.com/6ism6f.png \"Apache\")\n",
    "$$Figura \\ 1: \\ APACHE \\ $$"
   ]
  },
  {
   "cell_type": "markdown",
   "metadata": {},
   "source": [
    "### Procedemos a la instalación LAMP"
   ]
  },
  {
   "cell_type": "markdown",
   "metadata": {},
   "source": [
    "#### SERVIDOR Linux Server\n",
    "#### Apache\n",
    "* sudo apt-get update\n",
    "* sudo apt-get install apache2\n",
    "\n",
    "#### GESTOR PARA BD (MySQL)\n",
    "* sudo apt-get install mysql-server libapache2-mod-auth-mysql php5-mysql\n",
    "* sudo mysql_install_db     \n",
    "* sudo /usr/bin/mysql_secure_installation\n",
    "\n",
    "Nos deberia lanzar un mensaje en cosola como:\n",
    "All done!  If you've completed all of the above steps, your MySQL\n",
    "installation should now be secure."
   ]
  },
  {
   "cell_type": "markdown",
   "metadata": {},
   "source": [
    "#### PHP5\n",
    "* sudo apt-get install php5 libapache2-mod-php5 php5-mcrypt\n",
    "\n",
    "Esto deberá instalar PHP sin ningún problema. Vamos a probar esto en un momento.\n",
    "En la mayoría de los casos, vamos a querer modificar la forma en que Apache sirve archivos cuando se solicita un directorio. \n",
    "Actualmente, si un usuario solicita un directorio del servidor, Apache buscará primero un archivo llamado index.html \n",
    "Nosotros queremos decirle a nuestro servidor web que elija los archivos PHP de preferencia, por lo que vamos a hacer \n",
    "Apache busque un archivo index.php primero.\n",
    "Para ello, escribe este comando para abrir el archivo dir.conf en un editor de texto con privilegios de root:\n",
    "\n",
    "* sudo nano /etc/apache2/mods-enabled/dir.conf\n",
    "\n",
    "##### Se verá de forma similar a esto:"
   ]
  },
  {
   "cell_type": "raw",
   "metadata": {},
   "source": [
    "<IfModule mod_dir.c>\n",
    "    DirectoryIndex index.html index.cgi index.pl index.php index.xhtml index.htm\n",
    "</IfModule>"
   ]
  },
  {
   "cell_type": "markdown",
   "metadata": {},
   "source": [
    "Queremos mover el índice del archivo PHP destacandolo a la primera posición después de la especificación del DirectoryIndex, así:"
   ]
  },
  {
   "cell_type": "raw",
   "metadata": {},
   "source": [
    "<IfModule mod_dir.c>\n",
    "    DirectoryIndex index.php index.html index.cgi index.pl index.xhtml index.htm\n",
    "</IfModule>"
   ]
  },
  {
   "cell_type": "markdown",
   "metadata": {},
   "source": [
    "Ctrl+O  -- Ctrl+X\n",
    "\n",
    "Después de esto, tenemos que reiniciar el servidor web Apache para que nuestros cambios sean reconocidos. \n",
    "Puedes hacerlo hacerlo ejecutando esto:\n",
    "\n",
    "* sudo service apache2 restart"
   ]
  },
  {
   "cell_type": "markdown",
   "metadata": {},
   "source": [
    "##### Instalaciones adicionales: \n",
    "Para ver las opciones disponibles para los módulos de PHP y bibliotecas, puedes ejecutar esto en tu sistema:\n",
    "\n",
    "* apt-cache search php5-"
   ]
  },
  {
   "cell_type": "markdown",
   "metadata": {},
   "source": [
    "Los resultados son todos los componentes opcionales que se pueden instalar. Describiremos brevemente cada uno:"
   ]
  },
  {
   "cell_type": "raw",
   "metadata": {},
   "source": [
    "php5-common - Common files for packages built from the php5 source\n",
    "php5-curl - CURL module for php5\n",
    "php5-dev - Files for PHP5 module development\n",
    "php5-json - JSON module for php5\n",
    "php5-readline - Readline module for php5\n",
    "php5-cgi - Lenguaje de guiones embebidos en HTML para servidores (binario CGI)\n",
    "php5-cli - intérprete de órdenes para el lenguaje de guión php5\n",
    "php5-dbg - Símbolos de depuración para PHP5\n",
    "php5-gd - Módulo GD para php5\n",
    "php5-gmp - Módulo GMP para php5\n",
    "php5-ldap - Módulo LDAP para php5\n",
    "php5-mysql - Módulo MySQL para php5\n",
    "php5-odbc - Módulo ODBC para php5\n",
    "php5-pgsql - Módulo PostgreSQL para php5\n",
    "php5-pspell - Módulo pspell para php5\n",
    "php5-recode - Módulo recode para php5\n",
    "php5-snmp - Módulo SNMP para php5\n",
    "php5-sqlite - Módulo SQLite para php5\n",
    "php5-tidy - Módulo tidy para php5\n",
    "php5-xmlrpc - Módulo XML-RPC para php5\n",
    "php5-xsl - Módulo XSL para php5\n",
    "libphp5-embed - HTML-embedded scripting language (Embedded SAPI library)\n",
    "php5-adodb - Extension optimising the ADOdb database abstraction library\n",
    "php5-apcu - APC User Cache for PHP 5\n",
    "php5-enchant - Enchant module for php5\n",
    "php5-fpm - server-side, HTML-embedded scripting language (FPM-CGI binary)\n",
    "php5-gdcm - Grassroots DICOM PHP5 bindings\n",
    "php5-gearman - PHP wrapper to libgearman\n",
    "php5-gnupg - wrapper around the gpgme library\n",
    "php5-interbase - interbase/firebird module for php5\n",
    "php5-intl - internationalisation module for php5\n",
    "php5-lasso - Library for Liberty Alliance and SAML protocols - PHP 5 bindings\n",
    "php5-librdf - PHP5 language bindings for the Redland RDF library\n",
    "php5-mapscript - php5-cgi module for MapServer\n",
    "php5-memcache - memcache extension module for PHP5\n",
    "php5-memcached - memcached extension module for PHP5, uses libmemcached\n",
    "php5-midgard2 - Midgard2 Content Repository - PHP5 language bindings and module\n",
    "php5-mongo - MongoDB database driver\n",
    "php5-msgpack - PHP extension for interfacing with MessagePack\n",
    "php5-mysqlnd - MySQL module for php5 (Native Driver)\n",
    "php5-mysqlnd-ms - MySQL replication and load balancing module for PHP\n",
    "php5-oauth - OAuth 1.0 consumer and provider extension\n",
    "php5-pinba - Pinba module for PHP 5\n",
    "php5-radius - PECL radius module for PHP 5\n",
    "php5-redis - PHP extension for interfacing with Redis\n",
    "php5-remctl - PECL module for Kerberos-authenticated command execution\n",
    "php5-rrd - PHP bindings to rrd tool system\n",
    "php5-sasl - Cyrus SASL Extension\n",
    "php5-stomp - Streaming Text Oriented Messaging Protocol (STOMP) client module for PHP 5\n",
    "php5-svn - PHP Bindings for the Subversion Revision control system\n",
    "php5-tokyo-tyrant - PHP interface to Tokyo Cabinet's network interface, Tokyo Tyrant\n",
    "php5-vtkgdcm - Grassroots DICOM VTK PHP bindings\n",
    "php5-xcache - Fast, stable PHP opcode cacher\n",
    "php5-xhprof - Hierarchical Profiler for PHP5\n",
    "php5-exactimage - fast image manipulation library (PHP bindings)\n",
    "php5-geoip - Módulo GeoIP para php5\n",
    "php5-imagick - Módulo ImageMagick para php5\n",
    "php5-imap - Módulo IMAP para php5\n",
    "php5-mcrypt - Módulo MCrypt para php5\n",
    "php5-ming - Módulo Ming para php5\n",
    "php5-ps - módulo ps para PHP 5\n",
    "php5-sybase - Módulo de servidor Sybase/MS SQL para php5\n",
    "php5-xdebug - Módulo Xdebug para PHP 5"
   ]
  },
  {
   "cell_type": "markdown",
   "metadata": {},
   "source": [
    "Para obtener más información sobre lo que hace cada módulo, puedes buscar en Internet o ver en la descripción larga del paquete escribiendo:\n",
    "apt-cache show nombre_del_paquete. Por ejemplo:\n",
    "* apt-cache show php5-json"
   ]
  },
  {
   "cell_type": "markdown",
   "metadata": {},
   "source": [
    "Si, después de investigar, decides que quieres instalar un paquete, puedes hacerlo utilizando el comando apt-get install como lo hemos \n",
    "hecho previamente con otro software.\n",
    "Si decidimos que php5-json es algo que necesitamos, podríamos ejecutar:\n",
    "\n",
    "* sudo apt-get install php5-json\n",
    "* sudo apt-get install paquete1 paquete2 ..."
   ]
  },
  {
   "cell_type": "markdown",
   "metadata": {},
   "source": [
    "Si queréis comprobar y ver la configuración de nuestro servidor podeis crear un archivo info.php\n",
    "* sudo vim /var/www/html/info.php  \n",
    "Y añadimos en el archivo el siguiente codigo PHP:"
   ]
  },
  {
   "cell_type": "raw",
   "metadata": {},
   "source": [
    "<?php\n",
    "phpinfo();\n",
    "?>"
   ]
  },
  {
   "cell_type": "markdown",
   "metadata": {},
   "source": [
    "![PHP](http://i66.tinypic.com/2nsp2ev.png \"PHP\")\n",
    "$$Figura \\ 2: \\ PHP \\ $$"
   ]
  },
  {
   "cell_type": "markdown",
   "metadata": {},
   "source": [
    "#### phpMyAdmin\n",
    "Ahora que ya tenemos instalado el servidor, nos hacen falta las herramientas para desarrollar. Lo primero a instalar es una herramienta para gestionar nuestra base de datos."
   ]
  },
  {
   "cell_type": "markdown",
   "metadata": {},
   "source": [
    "* sudo apt-get install phpmyadmin \n",
    "\n",
    "Creamos un enlace simbolico y reiniciamos apache\n",
    "* sudo ln -s /usr/share/phpmyadmin /var/www/html/phpmyadmin\n",
    "* sudo /etc/init.d/apache2 reload"
   ]
  },
  {
   "cell_type": "markdown",
   "metadata": {},
   "source": [
    "![PHP](http://i64.tinypic.com/2uolwl3.png \"PHP\")\n",
    "$$Figura \\ 3: \\ PHPMYADMIN \\ $$"
   ]
  },
  {
   "cell_type": "markdown",
   "metadata": {},
   "source": [
    "#### Creando nuestra BD\n",
    "* root@asus-N53SV:/var/www/html# mysql -uroot -pcontraseña  \n",
    "Nos aparece en consola algo como esto:"
   ]
  },
  {
   "cell_type": "raw",
   "metadata": {},
   "source": [
    "mysql> create database drupal8;\n",
    "mysql> exit"
   ]
  },
  {
   "cell_type": "markdown",
   "metadata": {},
   "source": [
    "#### Localhost Drupal 8\n",
    "Enviamos el paquete de archivos de drupal 8 al directorio /var/www/html y lo renombramos  mv drupal-8.0.5/ drupal8\n",
    "Luego lo lanzamos desde nuestro buscador localhost/drupal8 y procedemos a la instalación"
   ]
  },
  {
   "cell_type": "markdown",
   "metadata": {},
   "source": [
    "![PHP](http://i64.tinypic.com/2hh40zp.png \"PHP\")\n",
    "$$Figura \\ 4: \\ CMS-DRUPAL \\ $$"
   ]
  },
  {
   "cell_type": "markdown",
   "metadata": {},
   "source": [
    "Iniciamos instalación y aparece un mensaje de URL limpias, se decide continuar con la instalación pues desde el gestor CMS podemos corregir ese detalle.  \n",
    "Nos pedira nombre de la BD, nombre de usuario y pass de la base de datos.\n",
    "* Nombre de la BD: drupal8\n",
    "* Nombre de usuario de la base de datos: root\n",
    "* pass: nomelase"
   ]
  },
  {
   "cell_type": "markdown",
   "metadata": {},
   "source": [
    "Se crea una carpeta en el directorio files llamada translations con su debido archivo.  \n",
    "Instala los modulos del nucleo (42 modulos).  \n",
    "Importa las traducciones de la carpeta translations  "
   ]
  },
  {
   "cell_type": "markdown",
   "metadata": {},
   "source": [
    "![PHP](http://i66.tinypic.com/2cqzdja.png \"PHP\")\n",
    "$$Figura \\ 5: \\ DRUPAL-8 \\ $$"
   ]
  },
  {
   "cell_type": "code",
   "execution_count": null,
   "metadata": {
    "collapsed": true
   },
   "outputs": [],
   "source": []
  }
 ],
 "metadata": {
  "kernelspec": {
   "display_name": "Python 3",
   "language": "python",
   "name": "python3"
  },
  "language_info": {
   "codemirror_mode": {
    "name": "ipython",
    "version": 3
   },
   "file_extension": ".py",
   "mimetype": "text/x-python",
   "name": "python",
   "nbconvert_exporter": "python",
   "pygments_lexer": "ipython3",
   "version": "3.5.1"
  }
 },
 "nbformat": 4,
 "nbformat_minor": 0
}
