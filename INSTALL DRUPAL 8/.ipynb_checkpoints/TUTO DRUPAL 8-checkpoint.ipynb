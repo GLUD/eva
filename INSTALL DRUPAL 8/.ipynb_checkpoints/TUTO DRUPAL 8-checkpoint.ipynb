{
 "cells": [
  {
   "cell_type": "markdown",
   "metadata": {},
   "source": [
    "# TUTORIAL PARA INSTALAR DRUPAL 8 (PASO A PASO)"
   ]
  },
  {
   "cell_type": "markdown",
   "metadata": {},
   "source": [
    "<a rel=\"license\" href=\"http://creativecommons.org/licenses/by/4.0/\"><img alt=\"Licencia Creative Commons\" style=\"border-width:0\" src=\"https://i.creativecommons.org/l/by/4.0/80x15.png\" /></a><br /><span xmlns:dct=\"http://purl.org/dc/terms/\" property=\"dct:title\">Tutorial Drupal 8</span> por <a xmlns:cc=\"http://creativecommons.org/ns#\" href=\"http://glud.org/\" property=\"cc:attributionName\" rel=\"cc:attributionURL\">Diego Javier Mena Amado</a> se distribuye bajo una <a rel=\"license\" href=\"http://creativecommons.org/licenses/by/4.0/\">Licencia Creative Commons Atribución 4.0 Internacional</a>."
   ]
  },
  {
   "cell_type": "markdown",
   "metadata": {},
   "source": [
    "### PRIMER CAFÉ\n",
    "Descargamos el CMS directamente desde https://www.drupal.org/project/drupal y descargamos Drupal Core 8.0.5\n",
    "Ubicamos el directorio, lo ingresamos a nuestro servidor y lo descomprimimos:"
   ]
  },
  {
   "cell_type": "raw",
   "metadata": {},
   "source": [
    "# cp drupal-8.0.5.tar.gz /var/www/\n",
    "# gzip -d drupal-8.0.5.tar.gz \n",
    "# tar -xvf drupal-8.0.5.tar "
   ]
  },
  {
   "cell_type": "markdown",
   "metadata": {},
   "source": [
    "Podrias tener en cuenta para descomprimir Ficheros tar.gz asi: \n",
    "\n",
    "* Comprimir: tar -czfv archivo.tar.gz ficheros\n",
    "* Descomprimir: tar -xzvf archivo.tar.gz\n",
    "* Ver contenido: tar -tzf archivo.tar.gz"
   ]
  },
  {
   "cell_type": "markdown",
   "metadata": {},
   "source": [
    "Ahora debemos crear el directorio FILES exactamente como en la version 7 y la copia del archivo settings"
   ]
  },
  {
   "cell_type": "raw",
   "metadata": {},
   "source": [
    "# mkdir sites/default/files\n",
    "# cp sites/default/default.settings.php sites/default/settings.php"
   ]
  },
  {
   "cell_type": "markdown",
   "metadata": {},
   "source": [
    "Añadimos permisos de escritura en modo super usuario"
   ]
  },
  {
   "cell_type": "raw",
   "metadata": {},
   "source": [
    "# chmod a+w -R sites/default/files/\n",
    "# chmod a+w  sites/default/settings.php "
   ]
  },
  {
   "cell_type": "markdown",
   "metadata": {},
   "source": [
    "## Procedemos a la instalación LAMP"
   ]
  },
  {
   "cell_type": "markdown",
   "metadata": {},
   "source": [
    "LAMP es el acrónimo usado para describir un sistema de infraestructura de internet que usa las siguientes herramientas:\n",
    "\n",
    "* Linux, el sistema operativo; En algunos casos también se refiere a LDAP.\n",
    "* Apache, el servidor web;\n",
    "* MySQL/MariaDB, el gestor de bases de datos;\n",
    "* Perl, PHP, o Python, los lenguajes de programación.\n",
    "\n",
    "![LAMP](https://upload.wikimedia.org/wikipedia/commons/thumb/8/82/LAMP_software_bundle.svg/1024px-LAMP_software_bundle.svg.png \"lamp\")\n",
    "$$Figura \\ 1: \\ LAMP \\ $$\n",
    "\n"
   ]
  },
  {
   "cell_type": "markdown",
   "metadata": {},
   "source": [
    "### Sistema Operativo GNU-Linux"
   ]
  },
  {
   "cell_type": "markdown",
   "metadata": {},
   "source": [
    "Puedes descargar tu distro de preferencia, en mi caso he usado Ubuntu Server y lo puedes conseguir directamente desde su pagina http://www.ubuntu.com/download/server"
   ]
  },
  {
   "cell_type": "markdown",
   "metadata": {},
   "source": [
    "### Apache"
   ]
  },
  {
   "cell_type": "raw",
   "metadata": {},
   "source": [
    "# sudo apt-get update\n",
    "# sudo apt-get install apache2"
   ]
  },
  {
   "cell_type": "markdown",
   "metadata": {},
   "source": [
    "![APACHE](http://i66.tinypic.com/23vci89.png \"apache\")\n",
    "$$Figura \\ 2: \\ APACHE \\ $$"
   ]
  },
  {
   "cell_type": "markdown",
   "metadata": {},
   "source": [
    "### Gestor para bases de datos (MySQL)"
   ]
  },
  {
   "cell_type": "raw",
   "metadata": {},
   "source": [
    "# sudo apt-get install mysql-server libapache2-mod-auth-mysql php5-mysql\n",
    "# sudo mysql_install_db     \n",
    "# sudo /usr/bin/mysql_secure_installation"
   ]
  },
  {
   "cell_type": "markdown",
   "metadata": {},
   "source": [
    "Debería aparecerles el siguiente mensaje en consola:  \n",
    "-> All done!  If you've completed all of the above steps, your MySQL\n",
    "installation should now be secure.\n"
   ]
  },
  {
   "cell_type": "markdown",
   "metadata": {},
   "source": [
    "### PHP-5"
   ]
  },
  {
   "cell_type": "raw",
   "metadata": {},
   "source": [
    "# sudo apt-get install php5 libapache2-mod-php5 php5-mcrypt"
   ]
  },
  {
   "cell_type": "markdown",
   "metadata": {},
   "source": [
    "<p style=\"text-align: justify;\">Esto deberá instalar PHP sin ningún problema. En la mayoría de los casos, vamos a querer modificar la forma en que Apache sirve archivos cuando se solicita un directorio.  Actualmente, si un usuario solicita un directorio del servidor, Apache buscará primero un archivo llamado index.html  \n",
    "Nosotros queremos decirle a nuestro servidor web que elija los archivos PHP de preferencia, por lo que vamos a hacer que Apache busque un archivo index.php primero.\n",
    "Para ello, escribe este comando para abrir el archivo dir.conf en un editor de texto con privilegios de root:</p>"
   ]
  },
  {
   "cell_type": "raw",
   "metadata": {},
   "source": [
    "# sudo nano /etc/apache2/mods-enabled/dir.conf\n",
    "Se verá de forma similar a esto:\n",
    "____________________________________________________\n",
    "<IfModule mod_dir.c>\n",
    "    DirectoryIndex index.html index.cgi index.pl index.php index.xhtml index.htm\n",
    "</IfModule>\n",
    "_______________________________________________________"
   ]
  },
  {
   "cell_type": "markdown",
   "metadata": {},
   "source": [
    "Queremos mover el índice del archivo PHP destacandolo a la primera posición después de la especificación del DirectoryIndex, así:\n"
   ]
  },
  {
   "cell_type": "raw",
   "metadata": {},
   "source": [
    "_______________________________________________\n",
    "<IfModule mod_dir.c>\n",
    "    DirectoryIndex index.php index.html index.cgi index.pl index.xhtml index.htm\n",
    "</IfModule>\n",
    "___________________________________________________"
   ]
  },
  {
   "cell_type": "markdown",
   "metadata": {},
   "source": [
    "Para guardar cambios: Ctrl+O  \n",
    "Para salir del editor nano: Ctrl+X  \n",
    "Después de esto, tenemos que reiniciar el servidor web Apache para que nuestros cambios sean reconocidos. \n",
    "Puedes hacerlo hacerlo ejecutando esto:"
   ]
  },
  {
   "cell_type": "raw",
   "metadata": {},
   "source": [
    "# sudo service apache2 restart"
   ]
  },
  {
   "cell_type": "markdown",
   "metadata": {},
   "source": [
    "Instalaciones adicionales: Para ver las opciones disponibles para los módulos de PHP y bibliotecas, puedes ejecutar esto en tu sistema:"
   ]
  },
  {
   "cell_type": "raw",
   "metadata": {},
   "source": [
    "# apt-cache search php5-"
   ]
  },
  {
   "cell_type": "markdown",
   "metadata": {},
   "source": [
    "Los resultados son todos los componentes opcionales que se pueden instalar. Describiremos brevemente cada uno:"
   ]
  },
  {
   "cell_type": "raw",
   "metadata": {},
   "source": [
    "php5-common - Common files for packages built from the php5 source\n",
    "php5-curl - CURL module for php5\n",
    "php5-dev - Files for PHP5 module development\n",
    "php5-json - JSON module for php5\n",
    "php5-readline - Readline module for php5\n",
    "php5-cgi - Lenguaje de guiones embebidos en HTML para servidores (binario CGI)\n",
    "php5-cli - intérprete de órdenes para el lenguaje de guión php5\n",
    "php5-dbg - Símbolos de depuración para PHP5\n",
    "php5-gd - Módulo GD para php5\n",
    "php5-gmp - Módulo GMP para php5\n",
    "php5-ldap - Módulo LDAP para php5\n",
    "php5-mysql - Módulo MySQL para php5\n",
    "php5-odbc - Módulo ODBC para php5\n",
    "php5-pgsql - Módulo PostgreSQL para php5\n",
    "php5-pspell - Módulo pspell para php5\n",
    "php5-recode - Módulo recode para php5\n",
    "php5-snmp - Módulo SNMP para php5\n",
    "php5-sqlite - Módulo SQLite para php5\n",
    "php5-tidy - Módulo tidy para php5\n",
    "php5-xmlrpc - Módulo XML-RPC para php5\n",
    "php5-xsl - Módulo XSL para php5\n",
    "libphp5-embed - HTML-embedded scripting language (Embedded SAPI library)\n",
    "php5-adodb - Extension optimising the ADOdb database abstraction library\n",
    "php5-apcu - APC User Cache for PHP 5\n",
    "php5-enchant - Enchant module for php5\n",
    "php5-fpm - server-side, HTML-embedded scripting language (FPM-CGI binary)\n",
    "php5-gdcm - Grassroots DICOM PHP5 bindings\n",
    "php5-gearman - PHP wrapper to libgearman\n",
    "php5-gnupg - wrapper around the gpgme library\n",
    "php5-interbase - interbase/firebird module for php5\n",
    "php5-intl - internationalisation module for php5\n",
    "php5-lasso - Library for Liberty Alliance and SAML protocols - PHP 5 bindings\n",
    "php5-librdf - PHP5 language bindings for the Redland RDF library\n",
    "php5-mapscript - php5-cgi module for MapServer\n",
    "php5-memcache - memcache extension module for PHP5\n",
    "php5-memcached - memcached extension module for PHP5, uses libmemcached\n",
    "php5-midgard2 - Midgard2 Content Repository - PHP5 language bindings and module\n",
    "php5-mongo - MongoDB database driver\n",
    "php5-msgpack - PHP extension for interfacing with MessagePack\n",
    "php5-mysqlnd - MySQL module for php5 (Native Driver)\n",
    "php5-mysqlnd-ms - MySQL replication and load balancing module for PHP\n",
    "php5-oauth - OAuth 1.0 consumer and provider extension\n",
    "php5-pinba - Pinba module for PHP 5\n",
    "php5-radius - PECL radius module for PHP 5\n",
    "php5-redis - PHP extension for interfacing with Redis\n",
    "php5-remctl - PECL module for Kerberos-authenticated command execution\n",
    "php5-rrd - PHP bindings to rrd tool system\n",
    "php5-sasl - Cyrus SASL Extension\n",
    "php5-stomp - Streaming Text Oriented Messaging Protocol (STOMP) client module for PHP 5\n",
    "php5-svn - PHP Bindings for the Subversion Revision control system\n",
    "php5-tokyo-tyrant - PHP interface to Tokyo Cabinet's network interface, Tokyo Tyrant\n",
    "php5-vtkgdcm - Grassroots DICOM VTK PHP bindings\n",
    "php5-xcache - Fast, stable PHP opcode cacher\n",
    "php5-xhprof - Hierarchical Profiler for PHP5\n",
    "php5-exactimage - fast image manipulation library (PHP bindings)\n",
    "php5-geoip - Módulo GeoIP para php5\n",
    "php5-imagick - Módulo ImageMagick para php5\n",
    "php5-imap - Módulo IMAP para php5\n",
    "php5-mcrypt - Módulo MCrypt para php5\n",
    "php5-ming - Módulo Ming para php5\n",
    "php5-ps - módulo ps para PHP 5\n",
    "php5-sybase - Módulo de servidor Sybase/MS SQL para php5\n",
    "php5-xdebug - Módulo Xdebug para PHP 5"
   ]
  },
  {
   "cell_type": "markdown",
   "metadata": {},
   "source": [
    "Para obtener más información sobre lo que hace cada módulo, puedes buscar en Internet o ver en la descripción larga del paquete escribiendo:"
   ]
  },
  {
   "cell_type": "raw",
   "metadata": {},
   "source": [
    "//Por ejemplo: # apt-cache show nombre_del_paquete  "
   ]
  },
  {
   "cell_type": "markdown",
   "metadata": {},
   "source": [
    "Si, después de investigar, decides que quieres instalar un paquete, puedes hacerlo utilizando el comando apt-get install como lo hemos hecho previamente con otro software. Para consumir los recursos json de un proximo tutorial necesito:"
   ]
  },
  {
   "cell_type": "raw",
   "metadata": {},
   "source": [
    "# apt-cache show php5-json"
   ]
  },
  {
   "cell_type": "markdown",
   "metadata": {},
   "source": [
    "Para comprobar y ver la configuración de nuestro servidor podemos crear un archivo info.php"
   ]
  },
  {
   "cell_type": "raw",
   "metadata": {},
   "source": [
    "sudo vim /var/www/html/info.php"
   ]
  },
  {
   "cell_type": "markdown",
   "metadata": {},
   "source": [
    "Y añadimos en el archivo el siguiente codigo PHP:"
   ]
  },
  {
   "cell_type": "raw",
   "metadata": {},
   "source": [
    "<?php\n",
    "phpinfo();\n",
    "?>"
   ]
  },
  {
   "cell_type": "markdown",
   "metadata": {},
   "source": [
    "Para insertar en el editor VIM, debes oprimir la tecla i, copiar el fragmento de codigo anterior, pegas en terminal (Ctrl+Shift+V), guarda y sale del editor digitando --> :wq"
   ]
  },
  {
   "cell_type": "markdown",
   "metadata": {},
   "source": [
    "![PHP-5](http://i64.tinypic.com/250s4g2.png \"php-5\")\n",
    "$$Figura \\ 2: \\ PHP-5 \\ $$"
   ]
  },
  {
   "cell_type": "markdown",
   "metadata": {},
   "source": [
    "### PHPMYADMIN"
   ]
  },
  {
   "cell_type": "markdown",
   "metadata": {},
   "source": [
    "Ahora que ya tenemos instalado el servidor, nos hacen falta las herramientas para desarrollar. Lo primero a instalar es una herramienta para gestionar nuestra base de datos, lo más común es phpMyAdmin"
   ]
  },
  {
   "cell_type": "markdown",
   "metadata": {
    "collapsed": true
   },
   "source": [
    "![PHPMYADMIN](http://i63.tinypic.com/2mmahle.png \"phpMyAdmin\")\n",
    "$$Figura \\ 3: \\ phpmyadmin \\ $$"
   ]
  },
  {
   "cell_type": "raw",
   "metadata": {},
   "source": [
    "# sudo apt-get install phpmyadmin"
   ]
  },
  {
   "cell_type": "markdown",
   "metadata": {},
   "source": [
    "Creamos un enlace simbolico y reiniciamos apache"
   ]
  },
  {
   "cell_type": "raw",
   "metadata": {},
   "source": [
    "# sudo ln -s /usr/share/phpmyadmin /var/www/html/phpmyadmin\n",
    "# sudo /etc/init.d/apache2 reload"
   ]
  },
  {
   "cell_type": "markdown",
   "metadata": {},
   "source": [
    "### SEGUNDO CAFÉ "
   ]
  },
  {
   "cell_type": "markdown",
   "metadata": {},
   "source": [
    "Listo ahora crearemos nuestra base de datos:"
   ]
  },
  {
   "cell_type": "raw",
   "metadata": {},
   "source": [
    "# /var/www/html# mysql -uroot -p11223344\n",
    "\n",
    "mysql> create database drupal8;\n",
    "mysql> exit"
   ]
  },
  {
   "cell_type": "markdown",
   "metadata": {},
   "source": [
    "Enviamos el paquete de archivos de drupal 8 a /var/www/html  \n",
    "Lo renombramos  mv drupal-8.0.5/ drupal8  \n",
    "Y lo lanzamos desde nuestro buscador localhost/drupal8  "
   ]
  },
  {
   "cell_type": "markdown",
   "metadata": {},
   "source": [
    "![DRUPAL](http://i63.tinypic.com/2vx21bn.png \"drupal\")\n",
    "$$Figura \\ 4: \\ INSTALANDO DRUPAL \\ $$"
   ]
  },
  {
   "cell_type": "markdown",
   "metadata": {},
   "source": [
    "Iniciamos instalacion y aparece un mensaje de URL limpias, decido continuar instalacion pues desde el CMS puedo corregir ese detalle"
   ]
  },
  {
   "cell_type": "markdown",
   "metadata": {},
   "source": [
    "Se crea una carpeta en el directorio files llamada translations con su debido archivo\n",
    "Instala los modulos del nucleo (42 modulos)\n",
    "Importa las traducciones de la carpeta translations"
   ]
  },
  {
   "cell_type": "markdown",
   "metadata": {},
   "source": [
    "![DRUPAL-8](http://i68.tinypic.com/2lcl37p.png \"drupal-8\")\n",
    "$$Figura \\ 5: \\ INSTALANDO DRUPAL \\ $$"
   ]
  },
  {
   "cell_type": "markdown",
   "metadata": {},
   "source": [
    "### DESPIERTA LA FUERZA INTERIOR\n",
    "![STALLMAN](http://k44.kn3.net/taringa/3/9/7/1/2/8/5/chapitalmala/3E1.jpg?9578 \"Stallman\")"
   ]
  },
  {
   "cell_type": "markdown",
   "metadata": {},
   "source": [
    "Hasta un proximo tuto!!! Mis queridos colegas del lado de la luz"
   ]
  }
 ],
 "metadata": {
  "kernelspec": {
   "display_name": "Python 3",
   "language": "python",
   "name": "python3"
  },
  "language_info": {
   "codemirror_mode": {
    "name": "ipython",
    "version": 3
   },
   "file_extension": ".py",
   "mimetype": "text/x-python",
   "name": "python",
   "nbconvert_exporter": "python",
   "pygments_lexer": "ipython3",
   "version": "3.5.1"
  }
 },
 "nbformat": 4,
 "nbformat_minor": 0
}
